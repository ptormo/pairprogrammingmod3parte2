{
 "cells": [
  {
   "cell_type": "markdown",
   "id": "c8a52cd7",
   "metadata": {},
   "source": [
    "Ejercicios intervalo de confianza. Al igual que en el caso del ejercicio de la clase, piensa un motivo por el que sería interesante calcular estos intervalos de confianza para la extracción de insights.\n",
    "\n",
    "Intervalo de Confianza para la Esperanza de Vida Contexto: Trabajas en una organización de salud global y deseas estimar el intervalo de confianza al 95% para la esperanza de vida promedio de cada continente. Nota: Cuidado porque puede que os salgan algunos nulos, genera un código para que no salgan nulos en los intervalos de confianza.\n",
    "\n",
    "Intervalo de Confianza para el PIB Contexto: Eres una economista y quieres calcular el intervalo de confianza al 90% para el Producto Interno Bruto (PIB) de los continentes.\n",
    "\n",
    "Prueba de Hipótesis\n",
    "\n",
    "Test de Normalidad :Verifica si la variable \"life_expectancy\" (esperanza de vida) sigue una distribución normal usando el test de Shapiro-Wilk o Kolmogorov-Smirnov según el tamaño de la muestra.\n",
    "\n",
    "Test de Igualdad de Varianzas: Comprueba si la varianza del PIB (GDP) es igual en países de Europa y África usando el test de Bartlett (si los datos son normales) o Levene (si no son normales).\n",
    "\n",
    "Comparación de Medias (t-Test de Student o Mann-Whitney U): ¿La esperanza de vida difiere significativamente entre países de Europa y Asia?\n",
    "\n",
    "Prueba de Hipótesis sobre Proporciones: ¿Hay una diferencia significativa en la tasa de desempleo entre los países de Europa y América?\n",
    "\n",
    "Comparación de Medias en Precios de Gasolina : ¿El precio de la gasolina (gasoline_price) es significativamente diferente entre países con un PIB alto y PIB bajo?"
   ]
  },
  {
   "cell_type": "code",
   "execution_count": 1,
   "id": "c6843850",
   "metadata": {},
   "outputs": [],
   "source": [
    "# Tratamiento de datos\n",
    "# -----------------------------------------------------------------------\n",
    "import pandas as pd\n",
    "import numpy as np\n",
    "\n",
    "# Visualización\n",
    "# ------------------------------------------------------------------------------\n",
    "import matplotlib.pyplot as plt\n",
    "import seaborn as sns\n",
    "\n",
    "# Evaluar linealidad de las relaciones entre las variables\n",
    "# y la distribución de las variables\n",
    "# ------------------------------------------------------------------------------\n",
    "#import scipy.stats as stats\n",
    "import scipy.stats as stats\n",
    "from scipy.stats import shapiro, poisson, chisquare, expon, kstest\n",
    "\n",
    "\n",
    "# Configuración\n",
    "# -----------------------------------------------------------------------\n",
    "pd.set_option('display.max_columns', None) # para poder visualizar todas las columnas de los DataFrames\n",
    "\n",
    "# Gestión de los warnings\n",
    "# -----------------------------------------------------------------------\n",
    "import warnings\n",
    "warnings.filterwarnings(\"ignore\")"
   ]
  },
  {
   "cell_type": "code",
   "execution_count": 2,
   "id": "6e6b6ac1",
   "metadata": {},
   "outputs": [],
   "source": [
    "df = pd.read_csv(\"world_data_full_apply_nulos.csv\", index_col=0)"
   ]
  },
  {
   "cell_type": "markdown",
   "id": "e6b16980",
   "metadata": {},
   "source": [
    "Intervalo de Confianza para la Esperanza de Vida Contexto: Trabajas en una organización de salud global y deseas estimar el intervalo de confianza al 95% para la esperanza de vida promedio de cada continente. Nota: Cuidado porque puede que os salgan algunos nulos, genera un código para que no salgan nulos en los intervalos de confianza."
   ]
  },
  {
   "cell_type": "code",
   "execution_count": null,
   "id": "99d9f713",
   "metadata": {},
   "outputs": [],
   "source": [
    "df['life_expectancy'] = df['life_expectancy'].fillna(df['life_expectancy'].mean()) #quitar nulos con la media de la columna"
   ]
  },
  {
   "cell_type": "code",
   "execution_count": 8,
   "id": "2e8c42a7",
   "metadata": {},
   "outputs": [],
   "source": [
    "def intervalo_con(data):\n",
    "    \n",
    "        \n",
    "    media = np.mean(data)\n",
    "    error_estandar = stats.sem(data)\n",
    "    nivel_confianza = 0.90\n",
    "    grados_libertad = len(data) - 1\n",
    "    valor_critico = stats.t.ppf((1 + nivel_confianza) / 2, df=grados_libertad)\n",
    "\n",
    "    # Calcular intervalo\n",
    "    limite_inferior = media - valor_critico * error_estandar\n",
    "    limite_superior = media + valor_critico * error_estandar\n",
    "\n",
    "    # Mostrar resultados\n",
    "    print(\"Intervalo de Confianza para los Datos:\")\n",
    "    print(f\"Media: {np.round(media, 2)}\")\n",
    "    print(f\"Error Estándar: {np.round(error_estandar, 2)}\")\n",
    "    print(f\"Nivel de Confianza: {nivel_confianza}\")\n",
    "    print(f\"Valor Crítico (t): {np.round(valor_critico, 3)}\")\n",
    "    print(f\"Intervalo de Confianza: ({np.round(limite_inferior, 2)}, {np.round(limite_superior, 2)})\")\n",
    "\n",
    "    # Opcionalmente puedes devolver los valores\n",
    "    return (limite_inferior, limite_superior)\n",
    "\n",
    "\n"
   ]
  },
  {
   "cell_type": "code",
   "execution_count": 12,
   "id": "df24e228",
   "metadata": {},
   "outputs": [
    {
     "name": "stdout",
     "output_type": "stream",
     "text": [
      "Intervalo de Confianza para los Datos:\n",
      "Media: 72.28\n",
      "Error Estándar: 0.52\n",
      "Nivel de Confianza: 0.9\n",
      "Valor Crítico (t): 1.653\n",
      "Intervalo de Confianza: (71.41, 73.15)\n"
     ]
    },
    {
     "data": {
      "text/plain": [
       "(71.4124008159808, 73.14695747278925)"
      ]
     },
     "execution_count": 12,
     "metadata": {},
     "output_type": "execute_result"
    }
   ],
   "source": [
    "intervalo_con(df['life_expectancy'])"
   ]
  },
  {
   "cell_type": "code",
   "execution_count": 15,
   "id": "73dbc9db",
   "metadata": {},
   "outputs": [],
   "source": [
    "df['gdp'] = df['gdp'].fillna(df['gdp'].mean())"
   ]
  },
  {
   "cell_type": "code",
   "execution_count": 16,
   "id": "bde460d5",
   "metadata": {},
   "outputs": [
    {
     "name": "stdout",
     "output_type": "stream",
     "text": [
      "Intervalo de Confianza para los Datos:\n",
      "Media: 477295901399.54\n",
      "Error Estándar: 154748670563.96\n",
      "Nivel de Confianza: 0.9\n",
      "Valor Crítico (t): 1.653\n",
      "Intervalo de Confianza: (221535658638.84, 733056144160.24)\n"
     ]
    },
    {
     "data": {
      "text/plain": [
       "(221535658638.83847, 733056144160.2393)"
      ]
     },
     "execution_count": 16,
     "metadata": {},
     "output_type": "execute_result"
    }
   ],
   "source": [
    "intervalo_con(df['gdp'])"
   ]
  },
  {
   "cell_type": "markdown",
   "id": "132a339a",
   "metadata": {},
   "source": [
    "Prueba de Hipótesis\n",
    "\n",
    "Test de Normalidad :Verifica si la variable \"life_expectancy\" (esperanza de vida) sigue una distribución normal usando el test de Shapiro-Wilk o Kolmogorov-Smirnov según el tamaño de la muestra."
   ]
  }
 ],
 "metadata": {
  "kernelspec": {
   "display_name": "base",
   "language": "python",
   "name": "python3"
  },
  "language_info": {
   "codemirror_mode": {
    "name": "ipython",
    "version": 3
   },
   "file_extension": ".py",
   "mimetype": "text/x-python",
   "name": "python",
   "nbconvert_exporter": "python",
   "pygments_lexer": "ipython3",
   "version": "3.12.7"
  }
 },
 "nbformat": 4,
 "nbformat_minor": 5
}
